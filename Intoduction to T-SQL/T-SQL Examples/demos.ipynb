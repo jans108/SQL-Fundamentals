{
    "metadata": {
        "kernelspec": {
            "name": "SQL",
            "display_name": "SQL",
            "language": "sql"
        },
        "language_info": {
            "name": "sql",
            "version": ""
        }
    },
    "nbformat_minor": 2,
    "nbformat": 4,
    "cells": [
        {
            "cell_type": "code",
            "source": [
                "CREATE DATABASE TestDB"
            ],
            "metadata": {
                "azdata_cell_guid": "267249f0-fde0-4377-8f19-ad1e5676a7c9",
                "language": "sql"
            },
            "outputs": [],
            "execution_count": null
        },
        {
            "cell_type": "code",
            "source": [
                "USE TestDB"
            ],
            "metadata": {
                "azdata_cell_guid": "c20b1f89-7fbb-4e7e-9bae-22a4ca02e306",
                "language": "sql"
            },
            "outputs": [],
            "execution_count": null
        },
        {
            "cell_type": "code",
            "source": [
                "CREATE TABLE [dbo].[TableA](\r\n",
                "[FirstName] [nvarchar](50) NOT NULL,\r\n",
                "[LastName] [nvarchar](50) NOT NULL,\r\n",
                "[DateOfBirth] [date] NULL,\r\n",
                "[Country] [nvarchar](3) NULL\r\n",
                ") ON [PRIMARY]\r\n",
                ""
            ],
            "metadata": {
                "azdata_cell_guid": "7fe65978-3f61-4c92-9c84-d9d26f8da4c9",
                "language": "sql"
            },
            "outputs": [],
            "execution_count": null
        },
        {
            "cell_type": "code",
            "source": [
                "SELECT * FROM TableA"
            ],
            "metadata": {
                "azdata_cell_guid": "728daded-7d4e-48e2-9adc-95dcda95921a",
                "language": "sql"
            },
            "outputs": [],
            "execution_count": null
        },
        {
            "cell_type": "code",
            "source": [
                "ALTER TABLE [dbo].[TableA] \r\n",
                "    ADD Test [nvarchar](3) NOT NULL"
            ],
            "metadata": {
                "language": "sql",
                "azdata_cell_guid": "ffccd7db-b8eb-4508-933f-8111b1458f5d"
            },
            "outputs": [],
            "execution_count": null
        },
        {
            "cell_type": "code",
            "source": [
                "SELECT * FROM TableA"
            ],
            "metadata": {
                "language": "sql",
                "azdata_cell_guid": "38081d1d-98dc-4922-b46b-41ca99fcb172"
            },
            "outputs": [],
            "execution_count": null
        },
        {
            "cell_type": "code",
            "source": [
                "ALTER TABLE [dbo].[TableA] \r\n",
                "    DROP COLUMN Test\r\n",
                ""
            ],
            "metadata": {
                "language": "sql",
                "azdata_cell_guid": "1fa01be4-b880-4e1e-8fc8-eeda5fa86c96"
            },
            "outputs": [],
            "execution_count": null
        },
        {
            "cell_type": "code",
            "source": [
                "SELECT c.Name,ty.Name  FROM sys.tables t \r\n",
                "INNER JOIN sys.columns c ON t.object_id = c.object_id\r\n",
                "INNER JOIN sys.types ty on c.system_type_id = ty.system_type_id\r\n",
                "WHERE t.Name = 'TableA' and ty.Name <> 'sysname'\r\n",
                ""
            ],
            "metadata": {
                "language": "sql",
                "azdata_cell_guid": "28a685f1-5365-45ae-bc35-16b9f6dbf7fa"
            },
            "outputs": [],
            "execution_count": null
        },
        {
            "cell_type": "code",
            "source": [
                "INSERT INTO TableA (FirstName,LastName,DateOfBirth,Country)\r\n",
                "VALUES\r\n",
                "('Ben','Weissman','01.01.1900','GER')"
            ],
            "metadata": {
                "language": "sql",
                "azdata_cell_guid": "85ba2a58-c535-4226-b19c-4fd64c7c67dd"
            },
            "outputs": [],
            "execution_count": null
        },
        {
            "cell_type": "code",
            "source": [
                "SELECT * FROM TableA"
            ],
            "metadata": {
                "language": "sql",
                "azdata_cell_guid": "fde24b95-2387-4930-9599-f9ccf1e30372"
            },
            "outputs": [],
            "execution_count": null
        },
        {
            "cell_type": "code",
            "source": [
                "INSERT INTO TableA (FirstName,LastName,DateOfBirth,Country)\r\n",
                "SELECT 'John','Doe','01.01.1901','US'"
            ],
            "metadata": {
                "language": "sql",
                "azdata_cell_guid": "358e6abd-c6ec-410f-a64a-5ab8124ddb49",
                "tags": []
            },
            "outputs": [],
            "execution_count": null
        },
        {
            "cell_type": "code",
            "source": [
                "SELECT * FROM TableA"
            ],
            "metadata": {
                "language": "sql",
                "azdata_cell_guid": "7517a0de-ec35-4341-bfd3-31b84c51aaf3"
            },
            "outputs": [],
            "execution_count": null
        },
        {
            "cell_type": "code",
            "source": [
                "INSERT INTO TableA (FirstName)\r\n",
                "SELECT FirstName FROM AdventureWorks2019.Person.Person A \r\n",
                " "
            ],
            "metadata": {
                "language": "sql",
                "azdata_cell_guid": "8fb56f38-f8ad-456f-8511-eb1ad8339a75"
            },
            "outputs": [],
            "execution_count": null
        },
        {
            "cell_type": "code",
            "source": [
                "INSERT INTO TableA (FirstName,LastName)\r\n",
                "SELECT FirstName,LastName FROM AdventureWorks2019.Person.Person A "
            ],
            "metadata": {
                "language": "sql",
                "azdata_cell_guid": "a7ea0e62-1365-4fd9-be4e-841db19b1595"
            },
            "outputs": [],
            "execution_count": null
        },
        {
            "cell_type": "code",
            "source": [
                "SELECT * FROM TableA"
            ],
            "metadata": {
                "azdata_cell_guid": "00f9c363-1428-482c-8e25-146d39dad9ed",
                "language": "sql"
            },
            "outputs": [],
            "execution_count": null
        },
        {
            "cell_type": "code",
            "source": [
                "DELETE FROM TableA WHERE Country IS NULL"
            ],
            "metadata": {
                "azdata_cell_guid": "061d6ab6-6f65-4704-ac30-4008a4829883",
                "language": "sql"
            },
            "outputs": [],
            "execution_count": null
        },
        {
            "cell_type": "code",
            "source": [
                "SELECT * FROM TableA"
            ],
            "metadata": {
                "language": "sql",
                "azdata_cell_guid": "b458f5a4-c14b-4e94-a271-77482d0dd5b5"
            },
            "outputs": [],
            "execution_count": null
        },
        {
            "cell_type": "code",
            "source": [
                "DELETE FROM TableA WHERE DateOfBirth > '01.01.1900'"
            ],
            "metadata": {
                "language": "sql",
                "azdata_cell_guid": "8688eb26-e67b-4182-a1ba-7f20e95a1312"
            },
            "outputs": [],
            "execution_count": null
        },
        {
            "cell_type": "code",
            "source": [
                "SELECT * FROM TableA"
            ],
            "metadata": {
                "language": "sql",
                "azdata_cell_guid": "b41fd25c-7e68-483a-8bfa-e77bd5cb06ae"
            },
            "outputs": [],
            "execution_count": null
        },
        {
            "cell_type": "code",
            "source": [
                "UPDATE TableA SET Country = 'DE' WHERE COUNTRY = 'GER'"
            ],
            "metadata": {
                "language": "sql",
                "azdata_cell_guid": "9c8b75d7-b0c9-40ad-9ce0-f722575027a1"
            },
            "outputs": [],
            "execution_count": null
        },
        {
            "cell_type": "code",
            "source": [
                "UPDATE TableA SET Country = 'DE' WHERE COUNTRY = 'GER'"
            ],
            "metadata": {
                "language": "sql",
                "azdata_cell_guid": "2dd3bc5f-04ac-4c8c-a180-5310fcf10f51"
            },
            "outputs": [],
            "execution_count": null
        },
        {
            "cell_type": "code",
            "source": [
                "SELECT * FROM TableA"
            ],
            "metadata": {
                "language": "sql",
                "azdata_cell_guid": "ab5de01e-82cc-4f76-8911-23db4cf7a0f7"
            },
            "outputs": [],
            "execution_count": null
        },
        {
            "cell_type": "code",
            "source": [
                "DROP TABLE TableA"
            ],
            "metadata": {
                "language": "sql",
                "azdata_cell_guid": "0dc3099b-9c89-4b9d-af93-1d2ac59a6bd8"
            },
            "outputs": [],
            "execution_count": null
        },
        {
            "cell_type": "code",
            "source": [
                "SELECT * FROM TableA"
            ],
            "metadata": {
                "language": "sql",
                "azdata_cell_guid": "d159abbc-06df-4da7-9401-2c4700fe29a1"
            },
            "outputs": [],
            "execution_count": null
        },
        {
            "cell_type": "code",
            "source": [
                "USE AdventureWorks2019"
            ],
            "metadata": {
                "language": "sql",
                "azdata_cell_guid": "f1050b31-f931-45bd-b251-255ec7c73961"
            },
            "outputs": [],
            "execution_count": null
        },
        {
            "cell_type": "code",
            "source": [
                "SELECT FirstName,LastName FROM Person.Person"
            ],
            "metadata": {
                "azdata_cell_guid": "02aa3ea1-0b11-4fd2-933f-897fc80ac6f7",
                "language": "sql"
            },
            "outputs": [],
            "execution_count": null
        },
        {
            "cell_type": "code",
            "source": [
                "SELECT TOP 5 FirstName,LastName FROM Person.Person"
            ],
            "metadata": {
                "language": "sql",
                "azdata_cell_guid": "c865967f-5758-4b45-91f5-711630f8bb70"
            },
            "outputs": [],
            "execution_count": null
        },
        {
            "cell_type": "code",
            "source": [
                "SELECT TOP 5 FirstName,LastName FROM Person.Person ORDER BY FirstName"
            ],
            "metadata": {
                "language": "sql",
                "azdata_cell_guid": "25a32b75-5d55-41da-81de-8bb4d372298c"
            },
            "outputs": [],
            "execution_count": null
        },
        {
            "cell_type": "code",
            "source": [
                "SELECT TOP 5 FirstName,LastName,PhoneNumber FROM Person.Person Per\r\n",
                "INNER JOIN Person.PersonPhone Pho on per.businessentityid = pho.businessentityid\r\n",
                "ORDER BY FirstName"
            ],
            "metadata": {
                "language": "sql",
                "azdata_cell_guid": "133e7a44-8314-46d9-8d04-0ce3fd816cb7"
            },
            "outputs": [],
            "execution_count": null
        },
        {
            "cell_type": "code",
            "source": [
                "SELECT TOP 5 FirstName,LastName,PhoneNumber FROM Person.Person Per\r\n",
                "INNER JOIN Person.PersonPhone Pho on per.businessentityid = pho.businessentityid\r\n",
                "WHERE NOT PhoneNumber like '___-___-____'\r\n",
                "ORDER BY FirstName"
            ],
            "metadata": {
                "language": "sql",
                "azdata_cell_guid": "4dcb324f-b830-47ae-b808-8b606010d9be"
            },
            "outputs": [],
            "execution_count": null
        }
    ]
}